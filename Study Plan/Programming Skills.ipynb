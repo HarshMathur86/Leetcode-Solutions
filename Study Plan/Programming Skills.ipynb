{
 "cells": [
  {
   "attachments": {},
   "cell_type": "markdown",
   "metadata": {},
   "source": [
    " ### Leetcode Study Plan\n",
    " \n",
    " ## Programming Skills I\n",
    "  - https://leetcode.com/study-plan/programming-skills/\n",
    "\n",
    " ### Day - 1\n",
    " #### 1523. Count Odd Numbers in an Interval Range"
   ]
  },
  {
   "cell_type": "code",
   "execution_count": null,
   "metadata": {},
   "outputs": [],
   "source": [
    "class Solution:\n",
    "    def countOdds(self, low: int, high: int) -> int:\n",
    "        if (high-low+1)%2 ==0 or (high%2 == 0 and low%2 == 0):\n",
    "            return (high-low+1)//2\n",
    "        else:\n",
    "            return 1 + (high-low+1)//2"
   ]
  },
  {
   "cell_type": "markdown",
   "metadata": {},
   "source": []
  }
 ],
 "metadata": {
  "kernelspec": {
   "display_name": "Python 3",
   "language": "python",
   "name": "python3"
  },
  "language_info": {
   "codemirror_mode": {
    "name": "ipython",
    "version": 3
   },
   "file_extension": ".py",
   "mimetype": "text/x-python",
   "name": "python",
   "nbconvert_exporter": "python",
   "pygments_lexer": "ipython3",
   "version": "3.10.4"
  },
  "orig_nbformat": 4,
  "vscode": {
   "interpreter": {
    "hash": "3ad933181bd8a04b432d3370b9dc3b0662ad032c4dfaa4e4f1596c548f763858"
   }
  }
 },
 "nbformat": 4,
 "nbformat_minor": 2
}
