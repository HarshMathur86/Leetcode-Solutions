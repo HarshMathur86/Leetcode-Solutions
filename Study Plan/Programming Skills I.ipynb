{
 "cells": [
  {
   "attachments": {},
   "cell_type": "markdown",
   "metadata": {},
   "source": [
    " ### Programming Skills I - Leetcode Study Plan\n",
    "  - https://leetcode.com/study-plan/programming-skills/\n",
    "\n",
    " ### Day - 1\n",
    " #### 1523. Count Odd Numbers in an Interval Range"
   ]
  },
  {
   "cell_type": "code",
   "execution_count": null,
   "metadata": {},
   "outputs": [],
   "source": [
    "class Solution:\n",
    "    def countOdds(self, low: int, high: int) -> int:\n",
    "        if (high-low+1)%2 ==0 or (high%2 == 0 and low%2 == 0):\n",
    "            return (high-low+1)//2\n",
    "        else:\n",
    "            return 1 + (high-low+1)//2"
   ]
  },
  {
   "attachments": {},
   "cell_type": "markdown",
   "metadata": {},
   "source": [
    " #### 1491. Average Salary Excluding the Minimum and Maximum Salary"
   ]
  },
  {
   "cell_type": "code",
   "execution_count": null,
   "metadata": {},
   "outputs": [],
   "source": [
    "class Solution:\n",
    "    def average(self, salary: List[int]) -> float:\n",
    "        salary.remove(max(salary))\n",
    "        salary.remove(min(salary))\n",
    "        return sum(salary)/len(salary)"
   ]
  },
  {
   "attachments": {},
   "cell_type": "markdown",
   "metadata": {},
   "source": [
    "### Day - 2 \n",
    "#### 191. Number of 1 Bits"
   ]
  },
  {
   "cell_type": "code",
   "execution_count": null,
   "metadata": {},
   "outputs": [],
   "source": [
    "class Solution:\n",
    "    def hammingWeight(self, n: int) -> int:\n",
    "        binary = [0] * 32\n",
    "\n",
    "        i = 0\n",
    "        while n>0:\n",
    "            binary[i] = n%2\n",
    "            n = n//2\n",
    "            i += 1\n",
    "        binary = binary[::-1]\n",
    "        return binary.count(1)"
   ]
  },
  {
   "attachments": {},
   "cell_type": "markdown",
   "metadata": {},
   "source": [
    "#### 1281. Subtract the Product and Sum of Digits of an Integer\n"
   ]
  },
  {
   "cell_type": "code",
   "execution_count": null,
   "metadata": {},
   "outputs": [],
   "source": [
    "class Solution:\n",
    "    def subtractProductAndSum(self, n: int) -> int:\n",
    "        prod = 1\n",
    "        sum = 0\n",
    "        for i in str(n):\n",
    "            prod = prod * int(i)\n",
    "            sum += int(i)\n",
    "        return prod-sum\n",
    "        "
   ]
  },
  {
   "attachments": {},
   "cell_type": "markdown",
   "metadata": {},
   "source": [
    "### Day 3\n",
    "#### 976. Largest Perimeter Triangle"
   ]
  },
  {
   "cell_type": "code",
   "execution_count": null,
   "metadata": {},
   "outputs": [],
   "source": [
    "class Solution:\n",
    "    def isTriPossible(a, b, c):\n",
    "        if a+b>c and b+c>a and c+a>b:\n",
    "            return True\n",
    "        else:\n",
    "            return False\n",
    "\n",
    "    def largestPerimeter(self, nums: List[int]) -> int:\n",
    "        \"\"\"if len(nums) == 3:\n",
    "            if Solution.isTriPossible(*nums):\n",
    "                return sum(nums)\n",
    "            else:\n",
    "                return 0\"\"\"\n",
    "        nums.sort()\n",
    "        for i in range(len(nums)-1, 1, -1):\n",
    "            if Solution.isTriPossible(nums[i], nums[i-1], nums[i-2]):\n",
    "                return nums[i]+nums[i-1]+nums[i-2]\n",
    "        return 0\n"
   ]
  },
  {
   "attachments": {},
   "cell_type": "markdown",
   "metadata": {},
   "source": [
    "#### 1779. Find Nearest Point That Has the Same X or Y Coordinate"
   ]
  },
  {
   "cell_type": "code",
   "execution_count": null,
   "metadata": {},
   "outputs": [],
   "source": [
    "class Solution:\n",
    "    def nearestValidPoint(self, x: int, y: int, points: List[List[int]]) -> int:\n",
    "        min_dis = 999999\n",
    "        min_x = None\n",
    "        min_y = None\n",
    "        for px, py in points:\n",
    "            if (px == x or py == y) and ((px-x)**2 + (py-y)**2)**0.5 < min_dis:\n",
    "                min_dis = ((px-x)**2 + (py-y)**2)**0.5\n",
    "                min_x = px\n",
    "                min_y = py\n",
    "\n",
    "        if min_x is None:\n",
    "            return -1\n",
    "        else:\n",
    "            return points.index([min_x, min_y])\n"
   ]
  },
  {
   "attachments": {},
   "cell_type": "markdown",
   "metadata": {},
   "source": [
    "### Day 4 - Loop\n",
    "#### 1822. Sign of the Product of an Array"
   ]
  },
  {
   "cell_type": "code",
   "execution_count": null,
   "metadata": {},
   "outputs": [],
   "source": [
    "class Solution:\n",
    "    def arraySign(self, nums: List[int]) -> int:\n",
    "        count_neg = len([x for x in nums if x<0])\n",
    "        if 0 in nums:\n",
    "            return 0\n",
    "        elif count_neg % 2 == 0:\n",
    "            return 1\n",
    "        else:\n",
    "            return -1"
   ]
  },
  {
   "attachments": {},
   "cell_type": "markdown",
   "metadata": {},
   "source": [
    "#### 1502. Can Make Arithmetic Progression From Sequence"
   ]
  },
  {
   "cell_type": "code",
   "execution_count": null,
   "metadata": {},
   "outputs": [],
   "source": [
    "class Solution:\n",
    "    def canMakeArithmeticProgression(self, arr: List[int]) -> bool:\n",
    "        arr.sort()\n",
    "        diff = arr[1] - arr[0]\n",
    "        for i in range(1, len(arr)-1):\n",
    "            if diff != arr[i+1]-arr[i]:\n",
    "                return False\n",
    "        return True"
   ]
  }
 ],
 "metadata": {
  "kernelspec": {
   "display_name": "Python 3",
   "language": "python",
   "name": "python3"
  },
  "language_info": {
   "codemirror_mode": {
    "name": "ipython",
    "version": 3
   },
   "file_extension": ".py",
   "mimetype": "text/x-python",
   "name": "python",
   "nbconvert_exporter": "python",
   "pygments_lexer": "ipython3",
   "version": "3.10.4"
  },
  "orig_nbformat": 4,
  "vscode": {
   "interpreter": {
    "hash": "3ad933181bd8a04b432d3370b9dc3b0662ad032c4dfaa4e4f1596c548f763858"
   }
  }
 },
 "nbformat": 4,
 "nbformat_minor": 2
}
